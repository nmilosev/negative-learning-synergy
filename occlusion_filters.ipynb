{
  "nbformat": 4,
  "nbformat_minor": 0,
  "metadata": {
    "colab": {
      "name": "novi filteri.ipynb",
      "provenance": [],
      "collapsed_sections": []
    },
    "kernelspec": {
      "name": "python3",
      "display_name": "Python 3"
    },
    "accelerator": "GPU"
  },
  "cells": [
    {
      "cell_type": "code",
      "metadata": {
        "id": "3MdSPsHJYVKN",
        "colab_type": "code",
        "colab": {}
      },
      "source": [
        "import torch\n",
        "import numpy as np\n",
        "from torchvision import datasets, transforms"
      ],
      "execution_count": null,
      "outputs": []
    },
    {
      "cell_type": "code",
      "metadata": {
        "id": "QmjUII66Yal_",
        "colab_type": "code",
        "colab": {}
      },
      "source": [
        "kwargs = {'num_workers': 4, 'pin_memory': True} \\\n",
        "         if torch.cuda.is_available() else {}\n",
        "\n",
        "def corner_kernel(factor):\n",
        "    kernel = np.ones((32, 32))\n",
        "    limit = int(factor * kernel.shape[0]) * 2\n",
        "    f = (1 - np.tril(kernel[:limit, :limit]))\n",
        "    kernel[kernel.shape[0] - limit:limit + kernel.shape[0], :limit] = f\n",
        "    return torch.tensor(kernel)"
      ],
      "execution_count": null,
      "outputs": []
    },
    {
      "cell_type": "code",
      "metadata": {
        "id": "wbOqGPHdYeRH",
        "colab_type": "code",
        "colab": {}
      },
      "source": [
        "from matplotlib.pyplot import imshow"
      ],
      "execution_count": null,
      "outputs": []
    },
    {
      "cell_type": "code",
      "metadata": {
        "id": "A-PCjv-RYlW2",
        "colab_type": "code",
        "colab": {
          "base_uri": "https://localhost:8080/",
          "height": 283
        },
        "outputId": "29f498b7-19a0-4970-b938-8902a5df46f2"
      },
      "source": [
        "imshow(corner_kernel(0.1), cmap='gray')"
      ],
      "execution_count": null,
      "outputs": [
        {
          "output_type": "execute_result",
          "data": {
            "text/plain": [
              "<matplotlib.image.AxesImage at 0x7fc7e7672ac8>"
            ]
          },
          "metadata": {
            "tags": []
          },
          "execution_count": 4
        },
        {
          "output_type": "display_data",
          "data": {
            "image/png": "[encoded data removed]",
            "text/plain": [
              "<Figure size 432x288 with 1 Axes>"
            ]
          },
          "metadata": {
            "tags": [],
            "needs_background": "light"
          }
        }
      ]
    },
    {
      "cell_type": "code",
      "metadata": {
        "id": "wWvrdfxMYodD",
        "colab_type": "code",
        "colab": {
          "base_uri": "https://localhost:8080/",
          "height": 283
        },
        "outputId": "3fb4a047-5187-4bd7-cda7-231380f29a6d"
      },
      "source": [
        "import random\n",
        "\n",
        "def single_square_kernel(start=5, size=10):\n",
        "    kernel = np.ones((32, 32))\n",
        "    kernel[start:start+size, start:start+size] = 0.\n",
        "    return torch.tensor(kernel)\n",
        "\n",
        "def single_square_kernel_random(start=5, size=10):\n",
        "    random_pos = random.randint(0, 31 - size)\n",
        "    kernel = np.ones((32, 32))\n",
        "    kernel[random_pos:random_pos + size, random_pos:random_pos + size] = 0.\n",
        "    return torch.tensor(kernel)\n",
        "\n",
        "def multiple_square_kernel(n_cuts=3, start=5, size=10):\n",
        "    size_triple = size // n_cuts\n",
        "    kernel = np.ones((32, 32))\n",
        "\n",
        "    beg = start\n",
        "    end = start + size_triple\n",
        "\n",
        "    for _ in range(n_cuts):\n",
        "\n",
        "        kernel[beg:end, beg:end] = 0.\n",
        "\n",
        "        beg = end + 5\n",
        "        end = beg + size_triple\n",
        "\n",
        "    return torch.tensor(kernel)\n",
        "\n",
        "def multiple_square_kernel_random(n_cuts = 2, start=0, size=20, sep = 5):\n",
        "    size_triple = size // n_cuts\n",
        "    kernel = np.ones((32, 32))\n",
        "\n",
        "    beg1 = start + random.randint(1, sep)\n",
        "    end1 = beg1 + size_triple\n",
        "\n",
        "    beg2 = start + random.randint(1, sep)\n",
        "    end2 = beg2 + size_triple\n",
        "\n",
        "    for _ in range(n_cuts):\n",
        "\n",
        "        kernel[beg1:end1, beg2:end2] = 0.\n",
        "\n",
        "        beg1 = end1 + random.randint(1, sep)\n",
        "        end1 = beg1 + size_triple\n",
        "\n",
        "        beg2 = end2 + random.randint(1, sep)\n",
        "        end2 = beg2 + size_triple\n",
        "\n",
        "    return torch.tensor(kernel)\n",
        "\n",
        "imshow(single_square_kernel(), cmap='gray')\n"
      ],
      "execution_count": null,
      "outputs": [
        {
          "output_type": "execute_result",
          "data": {
            "text/plain": [
              "<matplotlib.image.AxesImage at 0x7fc7e71675c0>"
            ]
          },
          "metadata": {
            "tags": []
          },
          "execution_count": 5
        },
        {
          "output_type": "display_data",
          "data": {
            "image/png": "[encoded data removed]",
            "text/plain": [
              "<Figure size 432x288 with 1 Axes>"
            ]
          },
          "metadata": {
            "tags": [],
            "needs_background": "light"
          }
        }
      ]
    },
    {
      "cell_type": "code",
      "metadata": {
        "id": "NbkuHwkV6-ba",
        "colab_type": "code",
        "colab": {
          "base_uri": "https://localhost:8080/",
          "height": 283
        },
        "outputId": "8887b9c8-f8e4-4ed3-f1c4-c76a1da8546e"
      },
      "source": [
        "imshow(single_square_kernel_random(), cmap='gray')"
      ],
      "execution_count": null,
      "outputs": [
        {
          "output_type": "execute_result",
          "data": {
            "text/plain": [
              "<matplotlib.image.AxesImage at 0x7fc7e7153320>"
            ]
          },
          "metadata": {
            "tags": []
          },
          "execution_count": 6
        },
        {
          "output_type": "display_data",
          "data": {
            "image/png": "[encoded data removed]",
            "text/plain": [
              "<Figure size 432x288 with 1 Axes>"
            ]
          },
          "metadata": {
            "tags": [],
            "needs_background": "light"
          }
        }
      ]
    },
    {
      "cell_type": "code",
      "metadata": {
        "id": "vULUMvyE6_QB",
        "colab_type": "code",
        "colab": {
          "base_uri": "https://localhost:8080/",
          "height": 283
        },
        "outputId": "edf8d2c4-fbe0-4765-a642-281776ab6cd3"
      },
      "source": [
        "imshow(multiple_square_kernel(), cmap='gray')"
      ],
      "execution_count": null,
      "outputs": [
        {
          "output_type": "execute_result",
          "data": {
            "text/plain": [
              "<matplotlib.image.AxesImage at 0x7fc7e70ba0b8>"
            ]
          },
          "metadata": {
            "tags": []
          },
          "execution_count": 7
        },
        {
          "output_type": "display_data",
          "data": {
            "image/png": "[encoded data removed]",
            "text/plain": [
              "<Figure size 432x288 with 1 Axes>"
            ]
          },
          "metadata": {
            "tags": [],
            "needs_background": "light"
          }
        }
      ]
    },
    {
      "cell_type": "code",
      "metadata": {
        "id": "FXj8tZlN7AHs",
        "colab_type": "code",
        "colab": {
          "base_uri": "https://localhost:8080/",
          "height": 283
        },
        "outputId": "d2391ce8-2b7b-433e-828a-2df6f9747111"
      },
      "source": [
        "imshow(multiple_square_kernel_random(), cmap='gray')"
      ],
      "execution_count": null,
      "outputs": [
        {
          "output_type": "execute_result",
          "data": {
            "text/plain": [
              "<matplotlib.image.AxesImage at 0x7fc7e708ee10>"
            ]
          },
          "metadata": {
            "tags": []
          },
          "execution_count": 8
        },
        {
          "output_type": "display_data",
          "data": {
            "image/png": "[encoded data removed]",
            "text/plain": [
              "<Figure size 432x288 with 1 Axes>"
            ]
          },
          "metadata": {
            "tags": [],
            "needs_background": "light"
          }
        }
      ]
    },
    {
      "cell_type": "code",
      "metadata": {
        "id": "XzUbLhwvLvj5",
        "colab_type": "code",
        "colab": {}
      },
      "source": [
        "transform_cifar = transforms.Compose(\n",
        "        [transforms.ToTensor()])\n",
        "\n",
        "def cifar10_loader(train=False, batch_size=4):\n",
        "    return torch.utils.data.DataLoader(\n",
        "        datasets.CIFAR10('../data', download=True, train=train,\n",
        "                          transform=transform_cifar),\n",
        "                          batch_size=batch_size,\n",
        "                          shuffle=train, **kwargs)"
      ],
      "execution_count": null,
      "outputs": []
    },
    {
      "cell_type": "code",
      "metadata": {
        "id": "MUFo-37OL_aF",
        "colab_type": "code",
        "colab": {
          "base_uri": "https://localhost:8080/",
          "height": 34
        },
        "outputId": "a1ae1656-277d-4431-c589-59e5b290edbd"
      },
      "source": [
        "loader = cifar10_loader()"
      ],
      "execution_count": null,
      "outputs": [
        {
          "output_type": "stream",
          "text": [
            "Files already downloaded and verified\n"
          ],
          "name": "stdout"
        }
      ]
    },
    {
      "cell_type": "code",
      "metadata": {
        "id": "OBAgTdtKMDQu",
        "colab_type": "code",
        "colab": {}
      },
      "source": [
        "import matplotlib.pyplot as plt\n",
        "import torchvision\n",
        "def imshow2(img):\n",
        "    npimg = img.numpy()\n",
        "    plt.axis('off')\n",
        "    plt.imshow(np.transpose(npimg, (1, 2, 0)))\n"
      ],
      "execution_count": null,
      "outputs": []
    },
    {
      "cell_type": "code",
      "metadata": {
        "id": "xmlvl2-tMoLF",
        "colab_type": "code",
        "colab": {
          "base_uri": "https://localhost:8080/",
          "height": 101
        },
        "outputId": "09fea655-e321-4b31-eb15-e157b042647e"
      },
      "source": [
        "image0 = loader.dataset[3421][0]\n",
        "\n",
        "image1 = loader.dataset[3421][0]\n",
        "filter1 = single_square_kernel()\n",
        "\n",
        "image2 = loader.dataset[3421][0]\n",
        "filter2 = single_square_kernel_random()\n",
        "\n",
        "image3 = loader.dataset[3421][0]\n",
        "filter3 = multiple_square_kernel()\n",
        "\n",
        "image4 = loader.dataset[3421][0]\n",
        "filter4 = multiple_square_kernel_random()\n",
        "\n",
        "for image, filter in zip([image1, image2, image3, image4], [filter1, filter2, filter3, filter4]):\n",
        "    for ch in image:\n",
        "        ch.mul_(filter)\n",
        "\n",
        "imshow2(torchvision.utils.make_grid([image0, image1, image2, image3, image4]))"
      ],
      "execution_count": null,
      "outputs": [
        {
          "output_type": "display_data",
          "data": {
            "image/png": "[encoded data removed]",
            "text/plain": [
              "<Figure size 432x288 with 1 Axes>"
            ]
          },
          "metadata": {
            "tags": [],
            "needs_background": "light"
          }
        }
      ]
    }
  ]
}